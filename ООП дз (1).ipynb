{
 "cells": [
  {
   "cell_type": "code",
   "execution_count": null,
   "metadata": {
    "id": "_YIjzjP2-bJM"
   },
   "outputs": [],
   "source": [
    "# Задание 1"
   ]
  },
  {
   "cell_type": "markdown",
   "metadata": {
    "id": "HGy4Bm0W-dTS"
   },
   "source": [
    "## Часть 1"
   ]
  },
  {
   "cell_type": "markdown",
   "metadata": {
    "id": "Y5BfDl1c-hjg"
   },
   "source": [
    "Напишите такой класс Animal, чтобы при вызове его классового метода get_heighest() возвращался рост самого высокого из экземпляров"
   ]
  },
  {
   "cell_type": "code",
   "execution_count": 1,
   "metadata": {
    "id": "hm2-cMQN-tj_"
   },
   "outputs": [],
   "source": [
    "class Animal():\n",
    "\n",
    "  def __init__(self, name, height):\n",
    "    self.name = name\n",
    "    self.height = height\n",
    "\n",
    "  def speak(self):\n",
    "    print(\"...\")\n",
    "\n",
    "  @classmethod\n",
    "  def get_highest(cls):\n",
    "    from gc import get_objects\n",
    "  \n",
    "    heights = []\n",
    "    for object in get_objects():\n",
    "      if isinstance(object, cls): heights.append(object.height)\n",
    "    return max(heights)\n",
    "    \n"
   ]
  },
  {
   "cell_type": "code",
   "execution_count": 2,
   "metadata": {
    "id": "7pu3innD_Go9"
   },
   "outputs": [],
   "source": [
    "a1 = Animal(\"Alex\", 200)\n",
    "a2 = Animal(\"Melman\", 400)\n",
    "a3 = Animal(\"King Julien XIII\", 40)\n",
    "a4 = Animal(\"Maurice\", 40)\n",
    "assert Animal.get_highest() == 400"
   ]
  },
  {
   "cell_type": "markdown",
   "metadata": {
    "id": "tWP04-tV-fCO"
   },
   "source": [
    "## Часть 2"
   ]
  },
  {
   "cell_type": "markdown",
   "metadata": {
    "id": "i7G11R4vAGmM"
   },
   "source": [
    "Все же считать всех животных просто.. животными это странно. Давайте заведем каждому животному по своему классу, унаследовавшись от класса Animal, при этом сделайте так, чтобы при сравнении двух животных только для животных одного вида возвращалось True"
   ]
  },
  {
   "cell_type": "code",
   "execution_count": 3,
   "metadata": {
    "id": "ubVsEaQnAFxb"
   },
   "outputs": [],
   "source": [
    "class Lion(Animal):\n",
    "  def __eq__(self, other):\n",
    "    return isinstance(other, Lion)\n",
    "\n",
    "class Lemur(Animal):\n",
    "  def __eq__(self, other):\n",
    "    return isinstance(other, Lemur)\n",
    "\n",
    "class Giraffe(Animal):\n",
    "  def __eq__(self, other):\n",
    "    return isinstance(other, Giraffe)"
   ]
  },
  {
   "cell_type": "code",
   "execution_count": 4,
   "metadata": {
    "id": "-UVYKiOUA2f0"
   },
   "outputs": [],
   "source": [
    "a1 = Lion(\"Alex\", 200)\n",
    "a2 = Giraffe(\"Melman\", 400)\n",
    "a3 = Lemur(\"King Julien XIII\", 40)\n",
    "a4 = Lemur(\"Maurice\", 40)\n",
    "assert a4 == a3\n",
    "assert a1 != a2\n",
    "assert a2 != a4"
   ]
  },
  {
   "cell_type": "markdown",
   "metadata": {
    "id": "xtvFEu1m-fp2"
   },
   "source": [
    "## Часть 3"
   ]
  },
  {
   "cell_type": "markdown",
   "metadata": {
    "id": "ZCDkRnrFB9cJ"
   },
   "source": [
    "Это все здорово, но как-то неправильно, что класс Animal имеет метод speak, а классы-потомки не определяют свою реализацию. Давайте сделаем так, чтобы все виды животных были обязаны иметь свою реализацию метода speak, но просто animal'ов уже у нас не было"
   ]
  },
  {
   "cell_type": "code",
   "execution_count": 5,
   "metadata": {
    "id": "EEik9OisB8_u"
   },
   "outputs": [],
   "source": [
    "from abc import ABC, abstractmethod\n",
    "\n",
    "class Animal(ABC):\n",
    "\n",
    "  def __init__(self, name, height):\n",
    "    self.name = name\n",
    "    self.height = height\n",
    "  \n",
    "  @abstractmethod\n",
    "  def speak(self):\n",
    "    pass\n",
    "\n",
    "  @classmethod\n",
    "  def get_highest(cls):\n",
    "    from gc import get_objects\n",
    "  \n",
    "    heights = []\n",
    "    for object in get_objects():\n",
    "      if isinstance(object, cls): heights.append(object.height)\n",
    "    return max(heights)\n",
    "\n",
    "class Lion(Animal):\n",
    "  def speak(self):\n",
    "    print(\"I'm the king of the wild!\")\n",
    "\n",
    "class Lemur(Animal):\n",
    "  def speak(self):\n",
    "    print(\"I like to move!\")\n",
    "\n",
    "class Giraffe(Animal):\n",
    "  def speak(self):\n",
    "    print(\"I'm the tallest!\")"
   ]
  },
  {
   "cell_type": "code",
   "execution_count": 21,
   "metadata": {
    "id": "tLY5yBMHCmZ8"
   },
   "outputs": [
    {
     "name": "stderr",
     "output_type": "stream",
     "text": [
      "----------------------------------------------------------------------\n",
      "Ran 3 tests in 0.000s\n",
      "\n",
      "OK\n"
     ]
    },
    {
     "name": "stdout",
     "output_type": "stream",
     "text": [
      "0\n",
      "I'm the king of the wild!\n",
      "I'm the tallest!\n",
      "I like to move!\n",
      "I like to move!\n"
     ]
    },
    {
     "data": {
      "text/plain": [
       "<unittest.main.TestProgram at 0x1046559d0>"
      ]
     },
     "execution_count": 21,
     "metadata": {},
     "output_type": "execute_result"
    }
   ],
   "source": [
    "import unittest\n",
    "from contextlib import contextmanager\n",
    "\n",
    "class AnimalTestCase(unittest.TestCase):\n",
    "  @contextmanager\n",
    "  def assertNotRaises(self, exc_type):\n",
    "    print(0)\n",
    "    try:\n",
    "      yield None\n",
    "    except exc_type:\n",
    "      raise self.failureException('{} raised'.format(exc_type.__name__))\n",
    "\n",
    "  def test_create_animal_instance(self):\n",
    "    with self.assertRaises(TypeError):\n",
    "      a = Animal(\"\", 0)\n",
    "\n",
    "  def test_create_zebra(self):\n",
    "    with self.assertRaises(TypeError):\n",
    "      class Zebra(Animal):\n",
    "        pass\n",
    "      a = Zebra(\"\", 0)\n",
    "\n",
    "  def test_create_animals(self):\n",
    "    with self.assertNotRaises(TypeError):\n",
    "      a1 = Lion(\"Alex\", 200)\n",
    "      a2 = Giraffe(\"Melman\", 400)\n",
    "      a3 = Lemur(\"King Julien XIII\", 40)\n",
    "      a4 = Lemur(\"Maurice\", 40)\n",
    "      a1.speak()\n",
    "      a2.speak()\n",
    "      a3.speak()\n",
    "      a4.speak()\n",
    "\n",
    "unittest.main(argv=[''], verbosity=0, exit=False)"
   ]
  },
  {
   "cell_type": "markdown",
   "metadata": {
    "id": "qDLskPaVFmEi"
   },
   "source": [
    "Вы должны увидеть такой результат\n",
    "\n",
    "0\n",
    "----------------------------------------------------------------------\n",
    "Ran 3 tests in 0.002s\n",
    "\n",
    "OK\n",
    "<unittest.main.TestProgram at 0x7f081faf2190>"
   ]
  },
  {
   "cell_type": "markdown",
   "metadata": {
    "id": "iEna-ueV-Phw"
   },
   "source": [
    "# Задание 2"
   ]
  },
  {
   "cell_type": "markdown",
   "metadata": {
    "id": "no7ko6P5pTAf"
   },
   "source": [
    "## Исходные данные"
   ]
  },
  {
   "cell_type": "markdown",
   "metadata": {
    "id": "rkXrdpzoguGi"
   },
   "source": [
    "Представим ситуацию, что вы нашли где-то целый архив с файлами переводов и решили обработать эти файлы.  Проблема в том, что все файлы имеют разные форматы:"
   ]
  },
  {
   "cell_type": "code",
   "execution_count": 22,
   "metadata": {
    "id": "Z5_PlvHeggav"
   },
   "outputs": [],
   "source": [
    "#.xliff\n",
    "file1 = '''\n",
    "<?xml version=\"1.0\" encoding=\"UTF-8\"?>\n",
    "<xliff version=\"1.2\"\n",
    "  xmlns=\"urn:oasis:names:tc:xliff:document:1.2\"\n",
    "  xmlns:xsi=\"http://www.w3.org/2001/XMLSchema-instance\"\n",
    "  xsi:schemaLocation=\"urn:oasis:names:tc:xliff:document:1.2 xliff-core-1.2-strict.xsd\">\n",
    "<file original=\"sample.properties\"\n",
    "  source-language=\"en\" target-language=\"de-AT\"\n",
    "  datatype=\"javapropertyresourcebundle\">\n",
    "<body>\n",
    "   <trans-unit id=\"1\" resname=\"welcome\">\n",
    "      <source xml:lang=\"en\">Hooray, you're here! The day just got better - enjoy the following tips!</source>\n",
    "      <target xml:lang=\"de-AT\">Hurra, du bist hier! Der Tag ist gerettet - nutze die folgenden Tipps!</target>\n",
    "   </trans-unit>\n",
    "   <trans-unit id=\"2\" resname=\"text_segment\">\n",
    "      <source xml:lang=\"en\">A section of text like this is known as a text segment. Start rockin' your translations now!</source>\n",
    "      <target xml:lang=\"de-AT\">Eine Textpassage wie diese bezeichnen wir als Textsegment. Starte jetzt mit deinen Übersetzungen durch!</target>\n",
    "   </trans-unit>\n",
    "   <trans-unit id=\"3\" resname=\"tab_shortcut\">\n",
    "      <source xml:lang=\"en\">Arriba, Arriba! Andale, Andale! Be fast as Speedy Gonzales. Just hit TAB to save and go to the next text segment, once you're done.</source>\n",
    "      <target xml:lang=\"de-AT\">Arriba, Arriba! Andale, Andale! Sei schneller als Speedy Gonzales. Springe mit TAB ins nächste Textsegment, sobald du fertig bist. Deine Änderungen werden automatisch gespeichert.</target>\n",
    "   </trans-unit>\n",
    "   <trans-unit id=\"4\" resname=\"love\">\n",
    "      <source xml:lang=\"en\">Made with ❤</source>\n",
    "      <target xml:lang=\"de-AT\">❤</target>\n",
    "      <note>lh-check { min: 10, max: 15 }</note>\n",
    "   </trans-unit>\n",
    "</body>\n",
    "</file>\n",
    "</xliff>\n",
    "'''\n",
    "\n",
    "#.po\n",
    "file2 = '''\n",
    "msgid \"\"\n",
    "msgstr \"\"\n",
    "\"Project-Id-Version: LingoHub 2.2.4\\n\"\n",
    "\"Report-Msgid-Bugs-To: \\n\"\n",
    "\"POT-Creation-Date: 2015-03-05 19:22+0200\\n\"\n",
    "\"PO-Revision-Date: 2015-04-29 10:16+0100\\n\"\n",
    "\"Last-Translator: Translator <translator@lingohub.com>\\n\"\n",
    "\"MIME-Version: 1.0\\n\"\n",
    "\"Content-Type: text/plain; charset=UTF-8\\n\"\n",
    "\"Content-Transfer-Encoding: 8bit\\n\"\n",
    "\"Plural-Forms: nplurals=2; plural=n>1;\\n\"\n",
    "\n",
    "msgid \"Hooray, you're here! The day just got better - enjoy the following tips!\"\n",
    "msgstr \"Hurra, du bist hier! Der Tag ist gerettet - nutze die folgenden Tipps!\"\n",
    "\n",
    "msgid \"A section of text like this is known as a text segment. Start rockin' your translations now!\"\n",
    "msgstr \"Eine Textpassage wie diese bezeichnen wir als Textsegment. Starte jetzt mit deinen Übersetzungen durch!\"\n",
    "\n",
    "msgid \"Arriba, Arriba! Andale, Andale! Be fast as Speedy Gonzales. Just hit TAB to save and go to the next text segment, once you're done.\"\n",
    "msgstr \"Arriba, Arriba! Andale, Andale! Sei schneller als Speedy Gonzales. Springe mit TAB ins nächste Textsegment, sobald du fertig bist. Deine Änderungen werden automatisch gespeichert.\"\n",
    "\n",
    "msgid \"Made with ❤\"\n",
    "msgstr \"❤\"\n",
    "'''\n",
    "\n",
    "#.po\n",
    "file3 = '''\n",
    "msgid \"\"\n",
    "msgstr \"\"\n",
    "\"Project-Id-Version: LingoHub 2.2.4\\n\"\n",
    "\"Report-Msgid-Bugs-To: \\n\"\n",
    "\"POT-Creation-Date: 2015-03-05 19:22+0200\\n\"\n",
    "\"PO-Revision-Date: 2015-04-29 10:16+0100\\n\"\n",
    "\"Last-Translator: Translator <translator@lingohub.com>\\n\"\n",
    "\"MIME-Version: 1.0\\n\"\n",
    "\"Content-Type: text/plain; charset=UTF-8\\n\"\n",
    "\"Content-Transfer-Encoding: 8bit\\n\"\n",
    "\"Plural-Forms: nplurals=2; plural=n>1;\\n\"\n",
    "\n",
    "msgid \"Hooray, you're here! The day just got better - enjoy the following tips!\"\n",
    "msgstr \"Hurrah, tu es là. Ça fait une bonne journée - profite des renseignements suivants !\"\n",
    "\n",
    "msgid \"A section of text like this is known as a text segment. Start rockin' your translations now!\"\n",
    "msgstr \"Un tel extrait est qualifié de segment du texte chez nous. C’est parti – commence tes traductions tout de suite/maintenant !\"\n",
    "\n",
    "msgid \"Arriba, Arriba! Andale, Andale! Be fast as Speedy Gonzales. Just hit TAB to save and go to the next text segment, once you're done.\"\n",
    "msgstr \"Arriba, Arriba ! Andale, Andale ! Prends Speedy Gonzales de vitesse. Appuie sur TAB pour sauvegarder et continuer avec le segment prochain dès que tu as fini.\"\n",
    "\n",
    "msgid \"We just like to see you happy, that's why LingoChecks automatically check translations for predetermined criteria.\\n Among other checks LingoHub verifies if %s used in the original text are also present in translated texts.\"\n",
    "msgstr \"Bazinga !\"\n",
    "\n",
    "msgid \"Made with ❤\"\n",
    "msgstr \"❤\"\n",
    "'''\n",
    "\n",
    "# .ts\n",
    "file4 = '''\n",
    "<?xml version=\"1.0\" encoding=\"utf-8\"?>\n",
    "<!DOCTYPE TS>\n",
    "<TS version=\"2.1\" language=\"de_AT\">\n",
    "<context>\n",
    "    <name>examples</name>\n",
    "    <message>\n",
    "        <source>Hooray, you're here! The day just got better - enjoy the following tips!</source>\n",
    "        <translation>Hurra, du bist hier! Der Tag ist gerettet - nutze die folgenden Tipps!</translation>\n",
    "    </message>\n",
    "    <message>\n",
    "        <source>A section of text like this is known as a text segment. Start rockin' your translations now!</source>\n",
    "\t      <translation>Eine Textpassage wie diese bezeichnen wir als Textsegment. Starte jetzt mit deinen Übersetzungen durch!</translation>\n",
    "    </message>\n",
    "    <message>\n",
    "        <source>Arriba, Arriba! Andale, Andale! Be fast as Speedy Gonzales. Just hit TAB to save and go to the next text segment, once you're done.</source>\n",
    "\t      <translation>Arriba, Arriba! Andale, Andale! Sei schneller als Speedy Gonzales. Springe mit TAB ins nächste Textsegment, sobald du fertig bist. Deine Änderungen werden automatisch gespeichert.</translation>\n",
    "    </message>\n",
    "    <message>\n",
    "        <source>Made with ❤</source>\n",
    "        <translation>❤</translation>\n",
    "        <comment>lh-check { min: 10, max: 15 }</comment>\n",
    "    </message>\n",
    "</context>\n",
    "</TS>\n",
    "'''\n",
    "\n",
    "# .ts\n",
    "file5 = '''\n",
    "<?xml version=\"1.0\" encoding=\"utf-8\"?>\n",
    "<!DOCTYPE TS>\n",
    "<TS version=\"2.1\" language=\"fr\">\n",
    "<context>\n",
    "    <name>examples</name>\n",
    "    <message>\n",
    "        <source>Hooray, you're here! The day just got better - enjoy the following tips!</source>\n",
    "        <translation>Hurrah, tu es là. Ça fait une bonne journée - profite des renseignements suivants !</translation>\n",
    "    </message>\n",
    "    <message>\n",
    "        <source>A section of text like this is known as a text segment. Start rockin' your translations now!</source>\n",
    "\t      <translation>Un tel extrait est qualifié de segment du texte chez nous. C’est parti – commence tes traductions tout de suite/maintenant !</translation>\n",
    "    </message>\n",
    "    <message>\n",
    "        <source>Arriba, Arriba! Andale, Andale! Be fast as Speedy Gonzales. Just hit TAB to save and go to the next text segment, once you're done.</source>\n",
    "\t      <translation>Arriba, Arriba ! Andale, Andale ! Prends Speedy Gonzales de vitesse. Appuie sur TAB pour sauvegarder et continuer avec le segment prochain dès que tu as fini.</translation>\n",
    "    </message>\n",
    "    <message>\n",
    "        <source>Made with ❤</source>\n",
    "        <translation>❤</translation>\n",
    "        <comment>lh-check { min: 10, max: 15 }</comment>\n",
    "    </message>\n",
    "</context>\n",
    "</TS>\n",
    "'''"
   ]
  },
  {
   "cell_type": "markdown",
   "metadata": {
    "id": "alF6cGlUpOkk"
   },
   "source": [
    "## Часть 1"
   ]
  },
  {
   "cell_type": "markdown",
   "metadata": {
    "id": "GeRBQqq9oMX1"
   },
   "source": [
    "Мы хотим:\n",
    "- уметь распарсить файлы разного вида\n",
    "- уметь переводить файлы из одного формата в другой\n",
    "- для тех форматов, где язык не указан, хотим вызывать какой-то метод/функцию для определения языка\n",
    "- уметь собирать статистику над файлами всех форматов (что-то типа \"а посчиатйте мне, сколько раз среди заданного куска массива с файлами переводов какой язык встречается\")"
   ]
  },
  {
   "cell_type": "code",
   "execution_count": 88,
   "metadata": {
    "id": "kIx51XnE1WwZ"
   },
   "outputs": [],
   "source": [
    "#.xliff\n",
    "file1 = '''\n",
    "<?xml version=\"1.0\" encoding=\"UTF-8\"?>\n",
    "<xliff version=\"1.2\"\n",
    "  xmlns=\"urn:oasis:names:tc:xliff:document:1.2\"\n",
    "  xmlns:xsi=\"http://www.w3.org/2001/XMLSchema-instance\"\n",
    "  xsi:schemaLocation=\"urn:oasis:names:tc:xliff:document:1.2 xliff-core-1.2-strict.xsd\">\n",
    "<file original=\"sample.properties\"\n",
    "  source-language=\"en\" target-language=\"de-AT\"\n",
    "  datatype=\"javapropertyresourcebundle\">\n",
    "<body>\n",
    "   <trans-unit id=\"1\" resname=\"welcome\">\n",
    "      <source xml:lang=\"en\">Hooray, you're here! The day just got better - enjoy the following tips!</source>\n",
    "      <target xml:lang=\"de-AT\">Hurra, du bist hier! Der Tag ist gerettet - nutze die folgenden Tipps!</target>\n",
    "   </trans-unit>\n",
    "   <trans-unit id=\"2\" resname=\"text_segment\">\n",
    "      <source xml:lang=\"en\">A section of text like this is known as a text segment. Start rockin' your translations now!</source>\n",
    "      <target xml:lang=\"de-AT\">Eine Textpassage wie diese bezeichnen wir als Textsegment. Starte jetzt mit deinen Übersetzungen durch!</target>\n",
    "   </trans-unit>\n",
    "   <trans-unit id=\"3\" resname=\"tab_shortcut\">\n",
    "      <source xml:lang=\"en\">Arriba, Arriba! Andale, Andale! Be fast as Speedy Gonzales. Just hit TAB to save and go to the next text segment, once you're done.</source>\n",
    "      <target xml:lang=\"de-AT\">Arriba, Arriba! Andale, Andale! Sei schneller als Speedy Gonzales. Springe mit TAB ins nächste Textsegment, sobald du fertig bist. Deine Änderungen werden automatisch gespeichert.</target>\n",
    "   </trans-unit>\n",
    "   <trans-unit id=\"4\" resname=\"love\">\n",
    "      <source xml:lang=\"en\">Made with ❤</source>\n",
    "      <target xml:lang=\"de-AT\">❤</target>\n",
    "      <note>lh-check { min: 10, max: 15 }</note>\n",
    "   </trans-unit>\n",
    "</body>\n",
    "</file>\n",
    "</xliff>\n",
    "'''\n",
    "\n",
    "from dataclasses import dataclass\n",
    "\n",
    "@dataclass\n",
    "class Parts1:\n",
    "  # body\n",
    "  translations: list[tuple[str, str]]\n",
    "  # xml\n",
    "  xml_version: str = \"1.0\"\n",
    "  encoding: str = \"UTF-8\"\n",
    "  # xliff\n",
    "  xliff_version: str = \"1.2\"\n",
    "  xmlns: str = \"urn:oasis:names:tc:xliff:document:1.2\"\n",
    "  xmlns_xsi: str = \"http://www.w3.org/2001/XMLSchema-instance\"\n",
    "  xsi_schema_location: str = \"urn:oasis:names:tc:xliff:document:1.2 xliff-core-1.2-strict.xsd\"\n",
    "  # file\n",
    "  original: str = \"sample.properties\"\n",
    "  source_language: str = \"en\"\n",
    "  target_language: str = \"en\"\n",
    "  datatype: str = \"javapropertyresourcebundle\"\n",
    "\n",
    "\n",
    "class Format1():\n",
    "  def __init__(self, text: str):\n",
    "    self.text = text\n",
    "    self.translations = []\n",
    "    self.xml_version = \"\"\n",
    "    self.encoding = \"\"\n",
    "\n",
    "  def to_list(self, text: str) -> list[str]:\n",
    "    \"\"\"\n",
    "    This function will take the raw data and return a list of strings\n",
    "    where each element represents a single line\n",
    "    \"\"\"\n",
    "    return text.split('\\n')\n",
    "  \n",
    "  def transform(self):\n",
    "    \"\"\"\n",
    "    This function will take a the list of strings and return an object\n",
    "    representing the different parts of the texts.\n",
    "    \"\"\"\n",
    "    texts = self.to_list(self.text)\n",
    "    #---- Getting the body parts\n",
    "    ndexes_body = [texts.index(s) for s in texts if any(t in s for t in [\"<body>\", \"</body>\"])]\n",
    "    body_slice = texts[ndexes_body[0]:ndexes_body[1] + 1]\n",
    "    # How many translations?\n",
    "    # text_amount = len([text for text in body_slice if \"<trans-unit\" in text])\n",
    "    translation_indexes = [body_slice.index(t) for t in body_slice if \"<trans-unit\" in t]\n",
    "    for index in translation_indexes:\n",
    "      raw_source = body_slice[index + 1].strip()\n",
    "      raw_target = body_slice[index + 2].strip()\n",
    "      # Remove the first \"<\" and the last \">\"\n",
    "      raw_source = raw_source[1:len(raw_source) - 1]\n",
    "      raw_target = raw_target[1:len(raw_target) - 1]\n",
    "      text_source_limits = [raw_source.index(\">\"), raw_source.index(\"<\")]\n",
    "      text_target_limits = [raw_target.index(\">\"), raw_target.index(\"<\")]\n",
    "      self.translations.append((\n",
    "        raw_source[text_source_limits[0] + 1:text_source_limits[1]],\n",
    "        raw_target[text_target_limits[0] + 1: text_target_limits[1]]\n",
    "      ))\n",
    "    #---- Getting the xml parts\n",
    "    ndx = 0 if texts[0] != \"\" else 1\n",
    "    xml_line = texts[ndx]\n",
    "    version_index = xml_line.index(\"version\") + len(\"version\") + 2\n",
    "    version = xml_line[version_index:version_index + 3]\n",
    "    encoding_index = xml_line.index(\"encoding\") + len(\"encoding\") + 2\n",
    "    encoding = xml_line[encoding_index:encoding_index + 5]\n",
    "    self.version = version\n",
    "    self.encoding = encoding\n",
    "\n",
    "\n",
    "class Format2():\n",
    "  pass\n",
    "\n",
    "\n",
    "class Format3():\n",
    "  pass\n",
    "\n",
    "\n",
    "def stats(ff):\n",
    "  for f in ff:\n",
    "    pass"
   ]
  },
  {
   "cell_type": "code",
   "execution_count": 89,
   "metadata": {},
   "outputs": [],
   "source": [
    "f = Format1(file1)\n",
    "f.transform()"
   ]
  },
  {
   "cell_type": "code",
   "execution_count": 73,
   "metadata": {
    "id": "s5AnSwQC1kpQ"
   },
   "outputs": [],
   "source": [
    "class UniversalFormat():\n",
    "  pass"
   ]
  },
  {
   "cell_type": "markdown",
   "metadata": {
    "id": "9vl07cDVpN9P"
   },
   "source": [
    "# Задание 3"
   ]
  },
  {
   "cell_type": "markdown",
   "metadata": {
    "id": "0FM84jTLpbyx"
   },
   "source": [
    "Мы нашли еще данных, но уже в других форматах:"
   ]
  },
  {
   "cell_type": "code",
   "execution_count": null,
   "metadata": {
    "id": "gjJ8QpLCpk_k"
   },
   "outputs": [],
   "source": [
    "# .csv\n",
    "file6 = '''\n",
    "\"Title\",\"Description\",\"en\", \"de-AT\"\n",
    "\"welcome\",,\"Hooray, you're here! The day just got better - enjoy the following tips!\", \"Hurra, du bist hier! Der Tag ist gerettet - nutze die folgenden Tipps!\"\n",
    "\"text_segment\",,\"A section of text like this is known as a text segment. Start rockin' your translations now!\", \"Eine Textpassage wie diese bezeichnen wir als Textsegment. Starte jetzt mit deinen Übersetzungen durch!\"\n",
    "\"tab_shortcut\",,\"Arriba, Arriba! Andale, Andale! Be fast as Speedy Gonzales. Just hit TAB to save and go to the next text segment, once you're done.\", \"Arriba, Arriba! Andale, Andale! Sei schneller als Speedy Gonzales. Springe mit TAB ins nächste Textsegment, sobald du fertig bist. Deine Änderungen werden automatisch gespeichert.\"\n",
    "\"love\",\"lh-check { max: 15, min: 10 }\",\"Made with ❤\", \"❤\"\n",
    "'''\n",
    "\n",
    "# .resw\n",
    "file7_1 = '''\n",
    "<?xml version=\"1.0\" encoding=\"utf-8\"?>\n",
    "<root>\n",
    "  <data name=\"welcome\" xml:space=\"preserve\">\n",
    "    <value>Hooray, you're here! The day just got better - enjoy the following tips!</value>\n",
    "  </data>\n",
    "  <data name=\"text_segment\" xml:space=\"preserve\">\n",
    "    <value>A section of text like this is known as a text segment. Start rockin' your translations now!</value>\n",
    "  </data>\n",
    "  <data name=\"tab_shortcut\" xml:space=\"preserve\">\n",
    "    <value>Arriba, Arriba! Andale, Andale! Be fast as Speedy Gonzales. Just hit TAB to save and go to the next text segment, once you're done.</value>\n",
    "  </data>\n",
    "  <data name=\"love\">\n",
    "    <value>Made with ❤</value>\n",
    "    <comment>lh-check { min: 10, max: 15 }</comment>\n",
    "  </data>\n",
    "</root>\n",
    "'''\n",
    "\n",
    "file7_2 = '''\n",
    "<?xml version=\"1.0\" encoding=\"utf-8\"?>\n",
    "<root>\n",
    "  <data name=\"welcome\" xml:space=\"preserve\">\n",
    "    <value>Hurrah, tu es là. Ça fait une bonne journée - profite des renseignements suivants !</value>\n",
    "  </data>\n",
    "  <data name=\"text_segment\" xml:space=\"preserve\">\n",
    "    <value>Un tel extrait est qualifié de segment du texte chez nous. C’est parti – commence tes traductions tout de suite/maintenant !</value>\n",
    "  </data>\n",
    "  <data name=\"tab_shortcut\" xml:space=\"preserve\">\n",
    "    <value>Arriba, Arriba ! Andale, Andale ! Prends Speedy Gonzales de vitesse. Appuie sur TAB pour sauvegarder et continuer avec le segment prochain dès que tu as fini.</value>\n",
    "  </data>\n",
    "  <data name=\"love\" xml:space=\"preserve\">\n",
    "    <value>❤</value>\n",
    "  </data>\n",
    "</root>\n",
    "'''\n",
    "\n",
    "# .php\n",
    "file8_1 = '''\n",
    "<?php\n",
    "  define(\"welcome\", \"Hooray, you're here! The day just got better - enjoy the following tips!\");\n",
    "\n",
    "  define(\"text_segment\", \"A section of text like this is known as a text segment. Start rockin' your translations now!\");\n",
    "\n",
    "  define(\"tab_shortcut\", \"Arriba, Arriba! Andale, Andale! Be fast as Speedy Gonzales. Just hit TAB to save and go to the next text segment, once you're done.\");\n",
    "\n",
    "  # lh-check { min: 10, max: 15 }\n",
    "  define(\"love\", \"Made with ❤\");\n",
    "?>\n",
    "'''\n",
    "\n",
    "file8_2 = '''\n",
    "<?php\n",
    "  define(\"welcome\", \"Hurra, du bist hier! Der Tag ist gerettet - nutze die folgenden Tipps!\");\n",
    "\n",
    "  define(\"text_segment\", \"Eine Textpassage wie diese bezeichnen wir als Textsegment. Starte jetzt mit deinen Übersetzungen durch!\");\n",
    "\n",
    "  define(\"tab_shortcut\", \"Arriba, Arriba! Andale, Andale! Sei schneller als Speedy Gonzales. Springe mit TAB ins nächste Textsegment, sobald du fertig bist. Deine Änderungen werden automatisch gespeichert.\");\n",
    "\n",
    "  define(\"love\", \"❤\");\n",
    "?>\n",
    "'''"
   ]
  },
  {
   "cell_type": "markdown",
   "metadata": {
    "id": "UZN5incJsN0X"
   },
   "source": [
    "Как изменится ваша модель классов для того, чтобы поддержать новые форматы?"
   ]
  }
 ],
 "metadata": {
  "colab": {
   "provenance": []
  },
  "kernelspec": {
   "display_name": "Python 3 (ipykernel)",
   "language": "python",
   "name": "python3"
  },
  "language_info": {
   "codemirror_mode": {
    "name": "ipython",
    "version": 3
   },
   "file_extension": ".py",
   "mimetype": "text/x-python",
   "name": "python",
   "nbconvert_exporter": "python",
   "pygments_lexer": "ipython3",
   "version": "3.8.0b4"
  },
  "vscode": {
   "interpreter": {
    "hash": "e686250a20d94fcc2b4eff15a16ee1f332af557cbb9326858186541b8bc605e1"
   }
  }
 },
 "nbformat": 4,
 "nbformat_minor": 1
}
