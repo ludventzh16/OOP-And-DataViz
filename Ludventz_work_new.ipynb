{
 "cells": [
  {
   "cell_type": "code",
   "execution_count": null,
   "id": "e6b9d0d8",
   "metadata": {},
   "outputs": [],
   "source": []
  },
  {
   "cell_type": "code",
   "execution_count": null,
   "id": "32bf1ef0",
   "metadata": {},
   "outputs": [],
   "source": []
  },
  {
   "cell_type": "code",
   "execution_count": 3,
   "id": "04f819f8",
   "metadata": {},
   "outputs": [],
   "source": [
    "# ЗАДАНИЕ 2"
   ]
  },
  {
   "cell_type": "code",
   "execution_count": null,
   "id": "9ca52968",
   "metadata": {},
   "outputs": [],
   "source": []
  },
  {
   "cell_type": "code",
   "execution_count": null,
   "id": "8f44016a",
   "metadata": {},
   "outputs": [],
   "source": [
    "import xml.etree.ElementTree as ET\n",
    "import polib\n",
    "from langdetect import detect"
   ]
  },
  {
   "cell_type": "code",
   "execution_count": null,
   "id": "3f614cb5",
   "metadata": {},
   "outputs": [],
   "source": [
    "class Format1:\n",
    "    def __init__(self, file_path):\n",
    "        self.file_path = file_path\n",
    "        self.translations = []\n",
    "\n",
    "    def parse(self):\n",
    "        tree = ET.parse(self.file_path)\n",
    "        root = tree.getroot()\n",
    "\n",
    "        for trans_unit in root.iter('trans-unit'):\n",
    "            source = trans_unit.find('source').text\n",
    "            target = trans_unit.find('target').text\n",
    "            self.translations.append((source, target))\n",
    "\n",
    "    def get_translations(self):\n",
    "        self.parse()\n",
    "        return self.translations"
   ]
  },
  {
   "cell_type": "code",
   "execution_count": null,
   "id": "b4c25d6f",
   "metadata": {},
   "outputs": [],
   "source": []
  },
  {
   "cell_type": "code",
   "execution_count": null,
   "id": "b144f31b",
   "metadata": {},
   "outputs": [],
   "source": [
    "\n",
    "class Format2:\n",
    "    def __init__(self, file_path):\n",
    "        self.file_path = file_path\n",
    "        self.translations = []\n",
    "\n",
    "    def parse(self):\n",
    "        po = polib.pofile(self.file_path)\n",
    "\n",
    "        for entry in po:\n",
    "            source = entry.msgid\n",
    "            target = entry.msgstr\n",
    "            self.translations.append((source, target))\n",
    "\n",
    "    def get_translations(self):\n",
    "        self.parse()\n",
    "        return self.translations"
   ]
  },
  {
   "cell_type": "code",
   "execution_count": null,
   "id": "71735384",
   "metadata": {},
   "outputs": [],
   "source": []
  },
  {
   "cell_type": "code",
   "execution_count": null,
   "id": "4acd02fc",
   "metadata": {},
   "outputs": [],
   "source": [
    "\n",
    "\n",
    "class Format3:\n",
    "    def __init__(self, file_path):\n",
    "        self.file_path = file_path\n",
    "        self.translations = []\n",
    "\n",
    "    def parse(self):\n",
    "        tree = ET.parse(self.file_path)\n",
    "        root = tree.getroot()\n",
    "\n",
    "        for message in root.iter('message'):\n",
    "            source = message.find('source').text\n",
    "            target = message.find('translation').text\n",
    "            self.translations.append((source, target))\n",
    "\n",
    "    def get_translations(self):\n",
    "        self.parse()\n",
    "        return self.translations"
   ]
  },
  {
   "cell_type": "code",
   "execution_count": null,
   "id": "2048b41e",
   "metadata": {},
   "outputs": [],
   "source": []
  },
  {
   "cell_type": "code",
   "execution_count": null,
   "id": "e0850439",
   "metadata": {},
   "outputs": [],
   "source": [
    "class UniversalFormat:\n",
    "    def __init__(self, file_path):\n",
    "        self.file_path = file_path\n",
    "        self.translations = []\n",
    "\n",
    "    def parse(self):\n",
    "        if self.file_path.endswith('.xliff'):\n",
    "            xliff_file = XliffFile(self.file_path)\n",
    "            self.translations = xliff_file.get_translations()\n",
    "        elif self.file_path.endswith('.po'):\n",
    "            po_file = PoFile(self.file_path)\n",
    "            self.translations = po_file.get_translations()\n",
    "        elif self.file_path.endswith('.ts'):\n",
    "            ts_file = TsFile(self.file_path)\n",
    "            self.translations = ts_file.get_translations()\n",
    "\n",
    "    def detect_language(self, text):\n",
    "        return detect(text)\n",
    "\n",
    "    def get_translations(self):\n",
    "        self.parse()\n",
    "        return self.translations\n",
    "\n",
    "    def get_language(self, text):\n",
    "        return self.detect_language(text)"
   ]
  },
  {
   "cell_type": "code",
   "execution_count": null,
   "id": "00f3ed45",
   "metadata": {},
   "outputs": [],
   "source": []
  },
  {
   "cell_type": "code",
   "execution_count": null,
   "id": "11fb89b9",
   "metadata": {},
   "outputs": [],
   "source": [
    "\n",
    "# Пример использования класса UniversalFormat\n",
    "file1 = UniversalFormat('file1.xliff')\n",
    "translations1 = file1.get_translations()\n",
    "print(translations1)\n",
    "\n",
    "file2 = UniversalFormat('file2.po')\n",
    "translations2 = file2.get_translations()\n",
    "print(translations2)"
   ]
  },
  {
   "cell_type": "code",
   "execution_count": null,
   "id": "9fa8b35f",
   "metadata": {},
   "outputs": [],
   "source": []
  },
  {
   "cell_type": "code",
   "execution_count": 4,
   "id": "ab56b079",
   "metadata": {},
   "outputs": [],
   "source": [
    "# ЗАДАНИЕ 3"
   ]
  },
  {
   "cell_type": "code",
   "execution_count": null,
   "id": "7a7e2b49",
   "metadata": {},
   "outputs": [],
   "source": [
    "import csv\n",
    "\n",
    "class Format4:\n",
    "    def __init__(self, file_path):\n",
    "        self.file_path = file_path\n",
    "        self.translations = []\n",
    "\n",
    "    def parse(self):\n",
    "        with open(self.file_path, 'r') as file:\n",
    "            reader = csv.reader(file)\n",
    "            for row in reader:\n",
    "                source = row[1]\n",
    "                target = row[2]\n",
    "                self.translations.append((source, target))\n",
    "\n",
    "    def get_translations(self):\n",
    "        self.parse()\n",
    "        return self.translations\n",
    "\n",
    "class Format5:\n",
    "    def __init__(self, file_path):\n",
    "        self.file_path = file_path\n",
    "        self.translations = []\n",
    "\n",
    "    def parse(self):\n",
    "        with open(self.file_path, 'r') as file:\n",
    "            content = file.read()\n",
    "            translations = content.split('\\n\\n')\n",
    "            for translation in translations:\n",
    "                lines = translation.strip().split('\\n')\n",
    "                source = lines[0].strip()\n",
    "                target = lines[1].strip()\n",
    "                self.translations.append((source, target))\n",
    "\n",
    "    def get_translations(self):\n",
    "        self.parse()\n",
    "        return self.translations\n",
    "\n",
    "class Format6:\n",
    "    def __init__(self, file_path):\n",
    "        self.file_path = file_path\n",
    "        self.translations = []\n",
    "\n",
    "    def parse(self):\n",
    "        # Implement parsing logic for PHP files\n",
    "        pass\n",
    "\n",
    "    def get_translations(self):\n",
    "        self.parse()\n",
    "        return self.translations\n",
    "\n"
   ]
  },
  {
   "cell_type": "code",
   "execution_count": null,
   "id": "243d7ea0",
   "metadata": {},
   "outputs": [],
   "source": [
    "\n",
    "class UniversalFormat:\n",
    "    def __init__(self, file_path):\n",
    "        self.file_path = file_path\n",
    "        self.translations = []\n",
    "\n",
    "    def get_translations(self):\n",
    "        if self.file_path.endswith('.xliff'):\n",
    "            xliff_file = XliffFile(self.file_path)\n",
    "            self.translations = xliff_file.get_translations()\n",
    "        elif self.file_path.endswith('.po'):\n",
    "            po_file = PoFile(self.file_path)\n",
    "            self.translations = po_file.get_translations()\n",
    "        elif self.file_path.endswith('.ts'):\n",
    "            ts_file = TsFile(self.file_path)\n",
    "            self.translations = ts_file.get_translations()\n",
    "        elif self.file_path.endswith('.csv'):\n",
    "            csv_file = CsvFile(self.file_path)\n",
    "            self.translations = csv_file.get_translations()\n",
    "        elif self.file_path.endswith('.resw'):\n",
    "            resw_file = ReswFile(self.file_path)\n",
    "            self.translations = resw_file.get_translations()\n",
    "        elif self.file_path.endswith('.php'):\n",
    "            php_file = PhpFile(self.file_path)\n",
    "            self.translations = php_file.get_translations()\n",
    "\n",
    "        return self.translations"
   ]
  },
  {
   "cell_type": "code",
   "execution_count": 5,
   "id": "1338c0b2",
   "metadata": {},
   "outputs": [],
   "source": [
    "# Пример использования новой модели классов"
   ]
  },
  {
   "cell_type": "code",
   "execution_count": null,
   "id": "f6d27cb8",
   "metadata": {},
   "outputs": [],
   "source": [
    "\n",
    "file6 = UniversalFormat('file6.csv')\n",
    "translations6 = file6.get_translations()\n",
    "print(translations6)\n",
    "\n",
    "file7_1 = UniversalFormat('file7_1.resw')\n",
    "translations7_1 = file7_1.get_translations()\n",
    "print(translations7_1)\n",
    "\n",
    "file7_2 = UniversalFormat('file7_2.resw')\n",
    "translations7_2 = file7_2.get_translations()\n",
    "print(translations7_2)\n",
    "\n",
    "file8_1 = UniversalFormat('file8_1.php')\n",
    "translations8_1 = file8_1.get_translations()\n",
    "print(translations8_1)\n",
    "\n",
    "file8_2 = UniversalFormat('file8_2.php')\n",
    "translations8_2 = file8_2.get_translations()\n",
    "print(translations8_2)"
   ]
  },
  {
   "cell_type": "code",
   "execution_count": null,
   "id": "6cb45bd8",
   "metadata": {},
   "outputs": [],
   "source": []
  }
 ],
 "metadata": {
  "kernelspec": {
   "display_name": "Python 3 (ipykernel)",
   "language": "python",
   "name": "python3"
  },
  "language_info": {
   "codemirror_mode": {
    "name": "ipython",
    "version": 3
   },
   "file_extension": ".py",
   "mimetype": "text/x-python",
   "name": "python",
   "nbconvert_exporter": "python",
   "pygments_lexer": "ipython3",
   "version": "3.9.18"
  }
 },
 "nbformat": 4,
 "nbformat_minor": 5
}
