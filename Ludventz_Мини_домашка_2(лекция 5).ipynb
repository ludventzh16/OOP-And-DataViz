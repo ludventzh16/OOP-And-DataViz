{
 "cells": [
  {
   "cell_type": "code",
   "execution_count": 8,
   "id": "20ae30a5",
   "metadata": {},
   "outputs": [],
   "source": [
    "# Мини-домашка"
   ]
  },
  {
   "cell_type": "code",
   "execution_count": 9,
   "id": "b83d3d25",
   "metadata": {},
   "outputs": [],
   "source": [
    "# Задание 1"
   ]
  },
  {
   "cell_type": "code",
   "execution_count": null,
   "id": "770c1145",
   "metadata": {},
   "outputs": [],
   "source": []
  },
  {
   "cell_type": "code",
   "execution_count": 14,
   "id": "636b7977",
   "metadata": {},
   "outputs": [],
   "source": [
    "def find_cycle(node):\n",
    "    if not node or not node.next:\n",
    "        return False\n",
    "\n",
    "    slow = node\n",
    "    fast = node.next\n",
    "\n",
    "    while slow != fast:\n",
    "        if not fast or not fast.next:\n",
    "            return False\n",
    "        slow = slow.next\n",
    "        fast = fast.next.next\n",
    "\n",
    "    return True\n"
   ]
  },
  {
   "cell_type": "code",
   "execution_count": null,
   "id": "bf04d4a7",
   "metadata": {},
   "outputs": [],
   "source": []
  },
  {
   "cell_type": "code",
   "execution_count": 7,
   "id": "8b02cae4",
   "metadata": {},
   "outputs": [],
   "source": [
    "# Задание 2"
   ]
  },
  {
   "cell_type": "code",
   "execution_count": 3,
   "id": "af791150",
   "metadata": {},
   "outputs": [],
   "source": [
    "class ConnectToDB:\n",
    "    connections = {}\n",
    "\n",
    "    def __new__(cls, *args,**kwargs):\n",
    "        if args or kwargs:\n",
    "            address = kwargs.get('address', '')\n",
    "            if address not in cls.connections:\n",
    "                cls.connections[address] = super().__new__(cls)\n",
    "        return cls.connections.get(address)\n",
    "\n",
    "    def __init__(self, address=\"\"):\n",
    "        self.address = address\n"
   ]
  },
  {
   "cell_type": "code",
   "execution_count": 4,
   "id": "64ad554e",
   "metadata": {},
   "outputs": [],
   "source": [
    "\n",
    "c1 = ConnectToDB(address=\"addr1\")\n",
    "c2 = ConnectToDB(address=\"addr1\")\n",
    "c3 = ConnectToDB(address=\"addr2\")\n",
    "assert c1 is c2\n",
    "assert c1 is not c3"
   ]
  },
  {
   "cell_type": "code",
   "execution_count": 5,
   "id": "34ccdbba",
   "metadata": {},
   "outputs": [
    {
     "name": "stdout",
     "output_type": "stream",
     "text": [
      "True\n"
     ]
    }
   ],
   "source": [
    "print(c1 is c2)"
   ]
  },
  {
   "cell_type": "code",
   "execution_count": 6,
   "id": "77ba33dc",
   "metadata": {},
   "outputs": [
    {
     "name": "stdout",
     "output_type": "stream",
     "text": [
      "True\n"
     ]
    }
   ],
   "source": [
    "print(c1 is not c3)"
   ]
  },
  {
   "cell_type": "code",
   "execution_count": null,
   "id": "3464a9c2",
   "metadata": {},
   "outputs": [],
   "source": []
  }
 ],
 "metadata": {
  "kernelspec": {
   "display_name": "Python 3 (ipykernel)",
   "language": "python",
   "name": "python3"
  },
  "language_info": {
   "codemirror_mode": {
    "name": "ipython",
    "version": 3
   },
   "file_extension": ".py",
   "mimetype": "text/x-python",
   "name": "python",
   "nbconvert_exporter": "python",
   "pygments_lexer": "ipython3",
   "version": "3.9.18"
  }
 },
 "nbformat": 4,
 "nbformat_minor": 5
}
