{
 "cells": [
  {
   "cell_type": "code",
   "execution_count": 7,
   "id": "a6e37624",
   "metadata": {},
   "outputs": [],
   "source": [
    "# Задача 1"
   ]
  },
  {
   "cell_type": "code",
   "execution_count": 3,
   "id": "c3fefca4",
   "metadata": {},
   "outputs": [],
   "source": [
    "def compare_addr(val1, val2):\n",
    "    assert type(val1) == str and type(val2) == str\n",
    "\n",
    "    str1 = str(val1)\n",
    "    str2 = str(val2)\n",
    "\n",
    "    return str1 is str2"
   ]
  },
  {
   "cell_type": "code",
   "execution_count": 6,
   "id": "31db0593",
   "metadata": {},
   "outputs": [
    {
     "name": "stdout",
     "output_type": "stream",
     "text": [
      "compare_addr(a, a) = True\n",
      "compare_addr(a, b) = False\n",
      "compare_addr(a a, a a) = True\n",
      "compare_addr(a a, a b) = False\n"
     ]
    }
   ],
   "source": [
    "tests = [\n",
    "    (\"a\",\"a\", True),\n",
    "    (\"a\",\"b\", False), \n",
    "    (\"a a\", \"a a\", True),\n",
    "    (\"a a\", \"a b\", False)\n",
    "]\n",
    "\n",
    "for t in tests:\n",
    "    a, b, result = t\n",
    "    assert compare_addr(a,b) == result\n",
    "    print(f\"compare_addr({a}, {b}) = {compare_addr(a,b)}\")"
   ]
  },
  {
   "cell_type": "code",
   "execution_count": null,
   "id": "46f029ce",
   "metadata": {},
   "outputs": [],
   "source": []
  },
  {
   "cell_type": "code",
   "execution_count": 12,
   "id": "f8fa0dad",
   "metadata": {},
   "outputs": [],
   "source": [
    "# Задача 2"
   ]
  },
  {
   "cell_type": "code",
   "execution_count": 14,
   "id": "85e03b86",
   "metadata": {},
   "outputs": [],
   "source": [
    "def substract_or_add(val1, val2):\n",
    "    if type(val1) == type(val2):\n",
    "        if hasattr(val1, '__sub__'):\n",
    "            return val1 - val2\n",
    "        elif hasattr(val1, '__add__'):\n",
    "            return val1 + val2\n",
    "    return None"
   ]
  },
  {
   "cell_type": "code",
   "execution_count": 15,
   "id": "4d9e5f64",
   "metadata": {},
   "outputs": [],
   "source": [
    "\n",
    "assert substract_or_add('a', 'b') == 'ab'\n",
    "assert substract_or_add(0, 1) == -1\n",
    "assert substract_or_add([1,2], [3,4]) == [1,2,3,4]\n",
    "assert substract_or_add(False, True) == -1\n",
    "assert substract_or_add([1,2], [3,4]) == [1,2,3,4]\n",
    "assert substract_or_add(set([1,2]), set([1,4])) == set([2])\n",
    "assert substract_or_add(None, None) == None"
   ]
  },
  {
   "cell_type": "code",
   "execution_count": 16,
   "id": "01a0e90a",
   "metadata": {},
   "outputs": [
    {
     "data": {
      "text/plain": [
       "-96"
      ]
     },
     "execution_count": 16,
     "metadata": {},
     "output_type": "execute_result"
    }
   ],
   "source": [
    "substract_or_add(2, 98)"
   ]
  },
  {
   "cell_type": "code",
   "execution_count": 19,
   "id": "dcd4bf4f",
   "metadata": {},
   "outputs": [
    {
     "data": {
      "text/plain": [
       "'fb'"
      ]
     },
     "execution_count": 19,
     "metadata": {},
     "output_type": "execute_result"
    }
   ],
   "source": [
    "substract_or_add('f', 'b')"
   ]
  },
  {
   "cell_type": "code",
   "execution_count": 23,
   "id": "3678252a",
   "metadata": {},
   "outputs": [
    {
     "name": "stdout",
     "output_type": "stream",
     "text": [
      "ab\n",
      "-1\n",
      "[1, 2, 3, 4]\n",
      "-1\n",
      "[1, 2, 3, 4]\n",
      "{2}\n",
      "None\n"
     ]
    }
   ],
   "source": [
    "\n",
    "print(substract_or_add('a', 'b'))\n",
    "print(substract_or_add(0, 1))\n",
    "print(substract_or_add([1,2], [3,4]))\n",
    "print(substract_or_add(False, True))\n",
    "      \n",
    "print(substract_or_add([1,2], [3,4]))\n",
    "print(substract_or_add(set([1,2]), set([1,4])))\n",
    "print(substract_or_add(None, None))"
   ]
  },
  {
   "cell_type": "code",
   "execution_count": 24,
   "id": "963f5929",
   "metadata": {},
   "outputs": [],
   "source": [
    "# Задача 3"
   ]
  },
  {
   "cell_type": "code",
   "execution_count": 27,
   "id": "dcce8668",
   "metadata": {},
   "outputs": [],
   "source": [
    "def multi(a):\n",
    "    \n",
    "    def multi_internal(b):\n",
    "        if 'multi_internal' in globals():\n",
    "            return multi_internal * b\n",
    "        else:\n",
    "            return a * b\n",
    "    return multi_internal"
   ]
  },
  {
   "cell_type": "code",
   "execution_count": 31,
   "id": "819368a0",
   "metadata": {},
   "outputs": [
    {
     "name": "stdout",
     "output_type": "stream",
     "text": [
      "15\n"
     ]
    }
   ],
   "source": [
    "\n",
    "multiplier_value = 10\n",
    "multiply = multi(5)\n",
    "result = multiply(3)\n",
    "print(result)\n"
   ]
  },
  {
   "cell_type": "code",
   "execution_count": 33,
   "id": "02a7cd26",
   "metadata": {},
   "outputs": [],
   "source": [
    "# Задача 4"
   ]
  },
  {
   "cell_type": "markdown",
   "id": "99dcb8a8",
   "metadata": {},
   "source": [
    "Да, в Python может возникнуть ситуация, когда оператор is вернет True, а оператор == вернет False."
   ]
  },
  {
   "cell_type": "markdown",
   "id": "4eb33b37",
   "metadata": {},
   "source": [
    "Оператор is сравнивает объекты по их идентичности, то есть проверяет, являются ли два объекта одним и тем же объектом в памяти.\n",
    "\n",
    "Он сравнивает адреса памяти объектов."
   ]
  },
  {
   "cell_type": "markdown",
   "id": "7f20c5c6",
   "metadata": {},
   "source": [
    "Оператор == сравнивает объекты по их значению, то есть проверяет, равны ли значения двух объектов."
   ]
  },
  {
   "cell_type": "code",
   "execution_count": 36,
   "id": "a98605cc",
   "metadata": {},
   "outputs": [
    {
     "name": "stdout",
     "output_type": "stream",
     "text": [
      "True\n",
      "False\n",
      "-----------\n",
      "True\n",
      "True\n"
     ]
    }
   ],
   "source": [
    "# Например\n",
    "\n",
    "list1 = [1, 3, 6, 7, 8, 10]\n",
    "\n",
    "list3=list1\n",
    "\n",
    "list2 = [1, 3, 6, 7, 8, 10]\n",
    "\n",
    "print(list1 is list3)\n",
    "print(list1 is list2)\n",
    "print(\"-----------\")\n",
    "print(list1 == list3)\n",
    "print(list1 == list2)"
   ]
  },
  {
   "cell_type": "code",
   "execution_count": 37,
   "id": "3fb4e206",
   "metadata": {},
   "outputs": [],
   "source": [
    "# Задание 5"
   ]
  },
  {
   "cell_type": "markdown",
   "id": "53b2216d",
   "metadata": {},
   "source": [
    "В Python существует концепция интернированных объектов, которая позволяет повторно использовать \n",
    "объекты определенных типов, таких как некоторые целые числа и строки. Это делается для оптимизации\n",
    "использования памяти и улучшения производительности.\n",
    "\n",
    "Когда вы создаете две переменные и присваиваете им одинаковые значения, содержащиеся в интернированных объектах,\n",
    "Python может решить использовать один и тот же объект в памяти для обоих переменных.\n",
    "В этом случае оператор is вернет True, потому что обе переменные ссылаются на один и тот же объект.\n",
    "\n",
    "Однако, когда вы создаете список и присваиваете его элементам значения, которые не являются интернированными объектами,\n",
    "Python создает отдельные объекты для каждого элемента списка. В этом случае оператор is вернет False, потому что каждый\n",
    "элемент списка будет иметь свой собственный адрес в памяти."
   ]
  },
  {
   "cell_type": "code",
   "execution_count": 40,
   "id": "0f28805f",
   "metadata": {},
   "outputs": [],
   "source": [
    "\n",
    "bad_vals = [-6, \"bad string\"]\n",
    "for val in bad_vals:\n",
    "  a = val\n",
    "  b = val\n",
    "  compare_addr(a, b)\n",
    "\n",
    "# В этом коде каждый элемент списка bad_vals будет иметь свой собственный адрес в памяти, \n",
    "# поэтому оператор is вернет False для каждой пары переменных a и b.\n",
    "\n",
    "# Однако, если вы создадите список с интернированными объектами, адреса будут совпадать:\n",
    "\n",
    "good_vals = [0, \"good string\"]\n",
    "for val in good_vals:\n",
    "  a = val\n",
    "  b = val\n",
    "  compare_addr(a, b)\n",
    "\n",
    "# В этом коде каждый элемент списка good_vals будет интернированным объектом, \n",
    "# поэтому оператор is вернет True для каждой пары переменных a и b.\n"
   ]
  },
  {
   "cell_type": "code",
   "execution_count": 41,
   "id": "de7e7fc0",
   "metadata": {},
   "outputs": [],
   "source": [
    "# Задача 6"
   ]
  },
  {
   "cell_type": "markdown",
   "id": "8d6d400e",
   "metadata": {},
   "source": [
    "Код вызывает ошибку, потому что вы изменяете размер списка array_to_cut во время итерации по нему. \n",
    "При удалении элемента из списка с помощью метода pop(), индексы остальных элементов сдвигаются, и это\n",
    "может привести к непредсказуемому поведению."
   ]
  },
  {
   "cell_type": "markdown",
   "id": "3f0f4842",
   "metadata": {},
   "source": [
    "В первом примере, когда вы удаляете элемент из списка array_to_cut с помощью array_to_cut.pop(i),\n",
    "индексы остальных элементов сдвигаются, и в следующей итерации цикла for вы обращаетесь к некорректному индексу. \n",
    "Это приводит к ошибке IndexError."
   ]
  },
  {
   "cell_type": "markdown",
   "id": "d446834d",
   "metadata": {},
   "source": [
    "Чтобы избежать этой ошибки, следует использовать обратный порядок итерации или создать новый список\n",
    "с нужными элементами."
   ]
  },
  {
   "cell_type": "code",
   "execution_count": null,
   "id": "ac3bb0d6",
   "metadata": {},
   "outputs": [],
   "source": []
  },
  {
   "cell_type": "code",
   "execution_count": 42,
   "id": "d3e5836a",
   "metadata": {},
   "outputs": [
    {
     "name": "stdout",
     "output_type": "stream",
     "text": [
      "[1, 1, 2, 4, 5]\n"
     ]
    }
   ],
   "source": [
    "# Исправленный код:\n",
    "\n",
    "array_to_cut = [1, 1, 2, 3, 4, 3, 3, 5]\n",
    "array_to_cut_new = []\n",
    "for i in range(len(array_to_cut) - 1, -1, -1):\n",
    "    if array_to_cut[i] != 3:\n",
    "        array_to_cut_new.append(array_to_cut[i])\n",
    "array_to_cut_new.reverse()\n",
    "print(array_to_cut_new)\n"
   ]
  },
  {
   "cell_type": "markdown",
   "id": "6bdb4a7f",
   "metadata": {},
   "source": [
    "В втором примере, когда вы изменяете элемент списка array_to_change с \n",
    "помощью array_to_change[i+1] -= 1, вы не изменяете размер списка или порядок элементов,\n",
    "поэтому не возникает ошибок. Элемент с индексом i+1 просто уменьшается на 1."
   ]
  },
  {
   "cell_type": "code",
   "execution_count": null,
   "id": "be31de02",
   "metadata": {},
   "outputs": [],
   "source": []
  }
 ],
 "metadata": {
  "kernelspec": {
   "display_name": "Python 3 (ipykernel)",
   "language": "python",
   "name": "python3"
  },
  "language_info": {
   "codemirror_mode": {
    "name": "ipython",
    "version": 3
   },
   "file_extension": ".py",
   "mimetype": "text/x-python",
   "name": "python",
   "nbconvert_exporter": "python",
   "pygments_lexer": "ipython3",
   "version": "3.8.0b4"
  }
 },
 "nbformat": 4,
 "nbformat_minor": 5
}
